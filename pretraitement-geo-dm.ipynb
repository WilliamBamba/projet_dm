{
 "cells": [
  {
   "cell_type": "code",
   "execution_count": 1,
   "metadata": {
    "_cell_guid": "b1076dfc-b9ad-4769-8c92-a6c4dae69d19",
    "_uuid": "8f2839f25d086af736a60e9eeb907d3b93b6e0e5"
   },
   "outputs": [
    {
     "name": "stdout",
     "output_type": "stream",
     "text": [
      "data/accidents-in-france-from-2005-to-2016/users.csv\n",
      "data/accidents-in-france-from-2005-to-2016/places.csv\n",
      "data/accidents-in-france-from-2005-to-2016/holidays.csv\n",
      "data/accidents-in-france-from-2005-to-2016/caracteristics.csv\n",
      "data/accidents-in-france-from-2005-to-2016/vehicles.csv\n"
     ]
    }
   ],
   "source": [
    "# This Python 3 environment comes with many helpful analytics libraries installed\n",
    "# It is defined by the kaggle/python Docker image: https://github.com/kaggle/docker-python\n",
    "# For example, here's several helpful packages to load\n",
    "\n",
    "import numpy as np # linear algebra\n",
    "import pandas as pd # data processing, CSV file I/O (e.g. pd.read_csv)\n",
    "\n",
    "import requests\n",
    "\n",
    "\n",
    "# Input data files are available in the read-only \"../input/\" directory\n",
    "# For example, running this (by clicking run or pressing Shift+Enter) will list all files under the input directory\n",
    "\n",
    "import os\n",
    "for dirname, _, filenames in os.walk('data'):\n",
    "    for filename in filenames:\n",
    "        print(os.path.join(dirname, filename))\n"
   ]
  },
  {
   "cell_type": "code",
   "execution_count": 2,
   "metadata": {
    "_cell_guid": "79c7e3d0-c299-4dcb-8224-4455121ee9b0",
    "_uuid": "d629ff2d2480ee46fbb7e2d37f6b5fab8052498a"
   },
   "outputs": [
    {
     "name": "stderr",
     "output_type": "stream",
     "text": [
      "/opt/miniconda3/envs/scapper/lib/python3.8/site-packages/IPython/core/interactiveshell.py:3146: DtypeWarning: Columns (14) have mixed types.Specify dtype option on import or set low_memory=False.\n",
      "  has_raised = await self.run_ast_nodes(code_ast.body, cell_name,\n"
     ]
    }
   ],
   "source": [
    "caracteristics_path = 'data/accidents-in-france-from-2005-to-2016/caracteristics.csv'\n",
    "caracteristics = pd.read_csv(caracteristics_path, encoding = 'latin-1')"
   ]
  },
  {
   "cell_type": "code",
   "execution_count": 3,
   "metadata": {},
   "outputs": [],
   "source": [
    "def invalide_rows(caracteristics):\n",
    "    \n",
    "    \n",
    "    adr_na = caracteristics['adr'].isna()\n",
    "    \n",
    "    lat_na = caracteristics['lat'].isna() | caracteristics['lat'].isnull()\n",
    "    long_na = caracteristics['long'].isna() | caracteristics['long'].isnull()\n",
    "    \n",
    "    \n",
    "    lat_zero = caracteristics['lat'] == 0\n",
    "    long_zero = (caracteristics['long'] == 0) | (caracteristics['long'] == '0')\n",
    "    \n",
    "    invalid_adr =  adr_na & (lat_zero | long_zero | lat_na | long_na)\n",
    "    \n",
    "    return invalid_adr"
   ]
  },
  {
   "cell_type": "code",
   "execution_count": 31,
   "metadata": {},
   "outputs": [],
   "source": [
    "invalid_rows = invalide_rows(caracteristics)\n",
    "valid_rows = ~invalid_rows"
   ]
  },
  {
   "cell_type": "code",
   "execution_count": 119,
   "metadata": {},
   "outputs": [],
   "source": [
    "valide_caracteristics = caracteristics[valid_rows]\n",
    "# garder tous ce qui sont dans la metropole\n",
    "in_metropole = (valide_caracteristics['gps'] == 'M') | valide_caracteristics['gps'].isna() & (valide_caracteristics['dep'] < 951)\n",
    "valide_caracteristics = valide_caracteristics[in_metropole]"
   ]
  },
  {
   "cell_type": "code",
   "execution_count": 86,
   "metadata": {},
   "outputs": [],
   "source": [
    "def adr_could_be_filled(valide_caracteristics):\n",
    "    \n",
    "    adr_not_na = valide_caracteristics['adr'].notna()\n",
    "    \n",
    "    lat_na = valide_caracteristics['lat'].isna() | valide_caracteristics['lat'].isnull()\n",
    "    long_na = valide_caracteristics['long'].isna() | valide_caracteristics['long'].isnull()\n",
    "    \n",
    "    code_com_dep_na  = valide_caracteristics['com'].isna() | valide_caracteristics['com'].isnull() \n",
    "    code_com_dep_na |= valide_caracteristics['dep'].isna() | valide_caracteristics['dep'].isnull()\n",
    "\n",
    "    \n",
    "    lat_zero = valide_caracteristics['lat'] == 0\n",
    "    long_zero = (valide_caracteristics['long'] == 0) | (valide_caracteristics['long'] == '0')\n",
    "    \n",
    "    return adr_not_na & (~code_com_dep_na) & (lat_na | long_na | lat_zero | long_zero)\n",
    "    "
   ]
  },
  {
   "cell_type": "code",
   "execution_count": 120,
   "metadata": {},
   "outputs": [],
   "source": [
    "valide_adr = adr_could_be_filled(valide_caracteristics)\n",
    "\n",
    "valide_adr_caracteristics = valide_caracteristics[valide_adr]"
   ]
  },
  {
   "cell_type": "code",
   "execution_count": 34,
   "metadata": {},
   "outputs": [],
   "source": [
    "def formate_com(com):\n",
    "    com = str(int(com))\n",
    "    extra_zero = '0' * (3 - len(com))\n",
    "    return extra_zero + com \n"
   ]
  },
  {
   "cell_type": "code",
   "execution_count": 121,
   "metadata": {},
   "outputs": [
    {
     "name": "stderr",
     "output_type": "stream",
     "text": [
      "<ipython-input-121-85aa8651ef1a>:4: SettingWithCopyWarning: \n",
      "A value is trying to be set on a copy of a slice from a DataFrame.\n",
      "Try using .loc[row_indexer,col_indexer] = value instead\n",
      "\n",
      "See the caveats in the documentation: https://pandas.pydata.org/pandas-docs/stable/user_guide/indexing.html#returning-a-view-versus-a-copy\n",
      "  valide_adr_caracteristics['dep_com'] = dep_new + com_new\n"
     ]
    }
   ],
   "source": [
    "com_new = valide_adr_caracteristics['com'].map(lambda x: formate_com(x))\n",
    "dep_new = valide_adr_caracteristics['dep'].map(lambda x: str(x)[:2])\n",
    "\n",
    "valide_adr_caracteristics['dep_com'] = dep_new + com_new"
   ]
  },
  {
   "cell_type": "code",
   "execution_count": 89,
   "metadata": {},
   "outputs": [],
   "source": [
    "import time\n",
    "import requests\n",
    "import threading\n",
    "import numpy as np\n",
    "import concurrent.futures"
   ]
  },
  {
   "cell_type": "code",
   "execution_count": 122,
   "metadata": {},
   "outputs": [
    {
     "name": "stdout",
     "output_type": "stream",
     "text": [
      "end 423.1078579425812 s\n",
      "['city' 'name' 'score' 'postcode' 'longitude' 'latitude']\n"
     ]
    }
   ],
   "source": [
    "lock = threading.Lock()\n",
    "\n",
    "def get_columns():\n",
    "    return [\n",
    "        ('city', ''), ('name', ''), ('score', float(0.0)), \n",
    "        ('postcode', -1), ('longitude', float(0.0)), ('latitude', float(0.0))\n",
    "    ]\n",
    "\n",
    "def add_columns(df):\n",
    "    for col in get_columns():\n",
    "        df[col[0]] = col[1]\n",
    "    return df\n",
    "\n",
    "\n",
    "start = time.time()\n",
    "valide_adr_caracteristics = valide_adr_caracteristics.iloc[:10000]\n",
    "valide_adr_caracteristics = add_columns(valide_adr_caracteristics)\n",
    "\n",
    "url = 'http://api-adresse.data.gouv.fr/search/?q={}'\n",
    "adr_dep_com = (valide_adr_caracteristics['adr'] + ' ') + valide_adr_caracteristics['dep_com']\n",
    "valide_adr_caracteristics['urls'] = adr_dep_com.map(url.format)\n",
    "\n",
    "\n",
    "def lat_long_from_adr(index_carac):\n",
    "    \n",
    "    global lock\n",
    "    i, carac = index_carac # valide_adr_caracteristics.iloc[i]\n",
    "        \n",
    "    response = requests.get(carac['urls'])\n",
    "    resp_json = response.json()\n",
    "    if len(resp_json['features']) < 1: return\n",
    "    feature = resp_json['features'][0]\n",
    "    \n",
    "    global valide_adr_caracteristics\n",
    "    with lock:\n",
    "        valide_adr_caracteristics.loc[i, 'city'] = feature['properties']['city']\n",
    "        valide_adr_caracteristics.loc[i, 'name'] = feature['properties']['name']\n",
    "        valide_adr_caracteristics.loc[i, 'score'] = round(feature['properties']['score'], 3)\n",
    "        valide_adr_caracteristics.loc[i, 'postcode'] = feature['properties']['postcode']\n",
    "        valide_adr_caracteristics.loc[i, 'longitude'] = feature['geometry']['coordinates'][0]\n",
    "        valide_adr_caracteristics.loc[i, 'latitude'] = feature['geometry']['coordinates'][1]\n",
    "\n",
    "with concurrent.futures.ThreadPoolExecutor(max_workers=10) as executor:\n",
    "    executor.map(lat_long_from_adr, valide_adr_caracteristics.iterrows())\n",
    "\n",
    "\n",
    "print('end', time.time() - start, 's')\n",
    "cols = np.array(get_columns())[:, 0]\n",
    "print(cols)\n",
    "valide_adr_caracteristics.loc[:, cols].to_csv('adr_complet.csv', index_label='Index', index=True)"
   ]
  },
  {
   "cell_type": "code",
   "execution_count": 123,
   "metadata": {},
   "outputs": [
    {
     "name": "stdout",
     "output_type": "stream",
     "text": [
      "458\n",
      "10000\n"
     ]
    },
    {
     "data": {
      "text/plain": [
       "'loss 0.0458 %'"
      ]
     },
     "execution_count": 123,
     "metadata": {},
     "output_type": "execute_result"
    }
   ],
   "source": [
    "invalide = valide_adr_caracteristics[valide_adr_caracteristics['postcode'] == -1]['postcode'].count() \n",
    "total = valide_adr_caracteristics['postcode'].count()\n",
    "\n",
    "print(invalide)\n",
    "print(total)\n",
    "'loss {} %'.format(invalide / total)"
   ]
  },
  {
   "cell_type": "code",
   "execution_count": null,
   "metadata": {},
   "outputs": [],
   "source": [
    "#unsent_requests = (grequests.get(u, session=requests.Session(), stream=False) for u in urls)\n",
    "#valide_adr_caracteristics = add_columns(valide_adr_caracteristics)\n",
    "#responses = grequests.map(unsent_requests, size=10)\n",
    "#for i, response in enumerate(responses):\n",
    "#    lat_long_from_adr(response, valide_adr_caracteristics, i)"
   ]
  },
  {
   "cell_type": "code",
   "execution_count": 124,
   "metadata": {},
   "outputs": [
    {
     "name": "stdout",
     "output_type": "stream",
     "text": [
      "43589\n"
     ]
    },
    {
     "data": {
      "text/plain": [
       "Num_Acc                                           201600043590\n",
       "an                                                          16\n",
       "mois                                                        12\n",
       "jour                                                        11\n",
       "hrmn                                                      2305\n",
       "lum                                                          5\n",
       "agg                                                          2\n",
       "int                                                          2\n",
       "atm                                                          1\n",
       "col                                                          3\n",
       "com                                                         68\n",
       "adr                                        CORNEILLES (BD DES)\n",
       "gps                                                        NaN\n",
       "lat                                                        NaN\n",
       "long                                                       NaN\n",
       "dep                                                        940\n",
       "dep_com                                                  94068\n",
       "city                                     Saint-Maur-des-Fossés\n",
       "name                                      Villa des Corneilles\n",
       "score                                                    0.481\n",
       "postcode                                                 94210\n",
       "longitude                                              2.49421\n",
       "latitude                                               48.7886\n",
       "urls         http://api-adresse.data.gouv.fr/search/?q=CORN...\n",
       "Name: 43589, dtype: object"
      ]
     },
     "execution_count": 124,
     "metadata": {},
     "output_type": "execute_result"
    }
   ],
   "source": [
    "for i, _ in valide_adr_caracteristics.iterrows():\n",
    "    pass\n",
    "#i['longitude'] = 1.0\n",
    "#valide_adr_caracteristics.loc[i, 'city'] = 'City'\n",
    "print(i)\n",
    "valide_adr_caracteristics.loc[i]"
   ]
  }
 ],
 "metadata": {
  "kernelspec": {
   "display_name": "Python 3",
   "language": "python",
   "name": "python3"
  },
  "language_info": {
   "codemirror_mode": {
    "name": "ipython",
    "version": 3
   },
   "file_extension": ".py",
   "mimetype": "text/x-python",
   "name": "python",
   "nbconvert_exporter": "python",
   "pygments_lexer": "ipython3",
   "version": "3.8.5"
  }
 },
 "nbformat": 4,
 "nbformat_minor": 4
}
