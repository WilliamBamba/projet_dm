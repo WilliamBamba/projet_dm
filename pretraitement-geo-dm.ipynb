{
 "cells": [
  {
   "cell_type": "code",
   "execution_count": 1,
   "metadata": {
    "_cell_guid": "b1076dfc-b9ad-4769-8c92-a6c4dae69d19",
    "_uuid": "8f2839f25d086af736a60e9eeb907d3b93b6e0e5"
   },
   "outputs": [
    {
     "name": "stdout",
     "output_type": "stream",
     "text": [
      "data/accidents-in-france-from-2005-to-2016/users.csv\n",
      "data/accidents-in-france-from-2005-to-2016/places.csv\n",
      "data/accidents-in-france-from-2005-to-2016/holidays.csv\n",
      "data/accidents-in-france-from-2005-to-2016/caracteristics.csv\n",
      "data/accidents-in-france-from-2005-to-2016/vehicles.csv\n"
     ]
    }
   ],
   "source": [
    "# This Python 3 environment comes with many helpful analytics libraries installed\n",
    "# It is defined by the kaggle/python Docker image: https://github.com/kaggle/docker-python\n",
    "# For example, here's several helpful packages to load\n",
    "\n",
    "import numpy as np # linear algebra\n",
    "import pandas as pd # data processing, CSV file I/O (e.g. pd.read_csv)\n",
    "\n",
    "import requests\n",
    "\n",
    "\n",
    "# Input data files are available in the read-only \"../input/\" directory\n",
    "# For example, running this (by clicking run or pressing Shift+Enter) will list all files under the input directory\n",
    "\n",
    "import os\n",
    "for dirname, _, filenames in os.walk('data'):\n",
    "    for filename in filenames:\n",
    "        print(os.path.join(dirname, filename))\n"
   ]
  },
  {
   "cell_type": "code",
   "execution_count": 2,
   "metadata": {
    "_cell_guid": "79c7e3d0-c299-4dcb-8224-4455121ee9b0",
    "_uuid": "d629ff2d2480ee46fbb7e2d37f6b5fab8052498a"
   },
   "outputs": [
    {
     "name": "stderr",
     "output_type": "stream",
     "text": [
      "/opt/miniconda3/envs/scapper/lib/python3.8/site-packages/IPython/core/interactiveshell.py:3146: DtypeWarning: Columns (14) have mixed types.Specify dtype option on import or set low_memory=False.\n",
      "  has_raised = await self.run_ast_nodes(code_ast.body, cell_name,\n"
     ]
    }
   ],
   "source": [
    "caracteristics_path = 'data/accidents-in-france-from-2005-to-2016/caracteristics.csv'\n",
    "caracteristics = pd.read_csv(caracteristics_path, encoding = 'latin-1')"
   ]
  },
  {
   "cell_type": "code",
   "execution_count": 3,
   "metadata": {},
   "outputs": [],
   "source": [
    "def invalide_rows(caracteristics):\n",
    "    \n",
    "    \n",
    "    adr_na = caracteristics['adr'].isna()\n",
    "    \n",
    "    lat_na = caracteristics['lat'].isna() | caracteristics['lat'].isnull()\n",
    "    long_na = caracteristics['long'].isna() | caracteristics['long'].isnull()\n",
    "    \n",
    "    \n",
    "    lat_zero = caracteristics['lat'] == 0\n",
    "    long_zero = (caracteristics['long'] == 0) | (caracteristics['long'] == '0')\n",
    "    \n",
    "    invalid_adr =  adr_na & (lat_zero | long_zero | lat_na | long_na)\n",
    "    \n",
    "    return invalid_adr"
   ]
  },
  {
   "cell_type": "code",
   "execution_count": 4,
   "metadata": {},
   "outputs": [],
   "source": [
    "invalid_rows = invalide_rows(caracteristics)\n",
    "valid_rows = ~invalid_rows"
   ]
  },
  {
   "cell_type": "code",
   "execution_count": 5,
   "metadata": {},
   "outputs": [],
   "source": [
    "valide_caracteristics = caracteristics[valid_rows]\n",
    "# garder tous ce qui sont dans la metropole\n",
    "in_metropole = (valide_caracteristics['gps'] == 'M') | valide_caracteristics['gps'].isna() & (valide_caracteristics['dep'] < 951)\n",
    "valide_caracteristics = valide_caracteristics[in_metropole]"
   ]
  },
  {
   "cell_type": "code",
   "execution_count": 6,
   "metadata": {},
   "outputs": [],
   "source": [
    "def adr_could_be_filled(valide_caracteristics):\n",
    "    \n",
    "    adr_not_na = valide_caracteristics['adr'].notna()\n",
    "    \n",
    "    lat_na = valide_caracteristics['lat'].isna() | valide_caracteristics['lat'].isnull()\n",
    "    long_na = valide_caracteristics['long'].isna() | valide_caracteristics['long'].isnull()\n",
    "    \n",
    "    code_com_dep_na  = valide_caracteristics['com'].isna() | valide_caracteristics['com'].isnull() \n",
    "    code_com_dep_na |= valide_caracteristics['dep'].isna() | valide_caracteristics['dep'].isnull()\n",
    "\n",
    "    \n",
    "    lat_zero = valide_caracteristics['lat'] == 0\n",
    "    long_zero = (valide_caracteristics['long'] == 0) | (valide_caracteristics['long'] == '0')\n",
    "    \n",
    "    return adr_not_na & (~code_com_dep_na) & (lat_na | long_na | lat_zero | long_zero)\n",
    "    "
   ]
  },
  {
   "cell_type": "code",
   "execution_count": 7,
   "metadata": {},
   "outputs": [],
   "source": [
    "valide_adr = adr_could_be_filled(valide_caracteristics)\n",
    "\n",
    "valide_adr_caracteristics = valide_caracteristics[valide_adr]"
   ]
  },
  {
   "cell_type": "code",
   "execution_count": 8,
   "metadata": {},
   "outputs": [],
   "source": [
    "def formate_com(com):\n",
    "    com = str(int(com))\n",
    "    extra_zero = '0' * (3 - len(com))\n",
    "    return extra_zero + com \n"
   ]
  },
  {
   "cell_type": "code",
   "execution_count": 9,
   "metadata": {},
   "outputs": [
    {
     "name": "stderr",
     "output_type": "stream",
     "text": [
      "<ipython-input-9-85aa8651ef1a>:4: SettingWithCopyWarning: \n",
      "A value is trying to be set on a copy of a slice from a DataFrame.\n",
      "Try using .loc[row_indexer,col_indexer] = value instead\n",
      "\n",
      "See the caveats in the documentation: https://pandas.pydata.org/pandas-docs/stable/user_guide/indexing.html#returning-a-view-versus-a-copy\n",
      "  valide_adr_caracteristics['dep_com'] = dep_new + com_new\n"
     ]
    }
   ],
   "source": [
    "com_new = valide_adr_caracteristics['com'].map(lambda x: formate_com(x))\n",
    "dep_new = valide_adr_caracteristics['dep'].map(lambda x: str(x)[:2])\n",
    "\n",
    "valide_adr_caracteristics['dep_com'] = dep_new + com_new"
   ]
  },
  {
   "cell_type": "code",
   "execution_count": 10,
   "metadata": {},
   "outputs": [],
   "source": [
    "import time\n",
    "import json\n",
    "import requests\n",
    "import threading\n",
    "import numpy as np\n",
    "import concurrent.futures"
   ]
  },
  {
   "cell_type": "code",
   "execution_count": 11,
   "metadata": {},
   "outputs": [],
   "source": [
    "def get_columns():\n",
    "    return [\n",
    "        ('city', ''), ('name', ''), ('score', float(0.0)), \n",
    "        ('postcode', -1), ('longitude', float(0.0)), ('latitude', float(0.0))\n",
    "    ]\n",
    "\n",
    "\n",
    "def chunker(df, start, size):\n",
    "    return df.iloc[start:start+size]\n",
    "\n",
    "\n",
    "def get_lat_long_from_adr(index_carac):    \n",
    "    i, carac = index_carac\n",
    "    \n",
    "    query_url = 'http://api-adresse.data.gouv.fr/search/?q={}'\n",
    "    adr_dep_com = '{} {}'.format(carac['adr'], carac['dep_com'])\n",
    "    url = query_url.format(adr_dep_com)\n",
    "    resp_json = None\n",
    "    \n",
    "    #tries = 0\n",
    "    #while tries < 3:\n",
    "        \n",
    "    #    try:\n",
    "    response = requests.get(url)\n",
    "    resp_json = response.json()\n",
    "            #break\n",
    "        #except requests.exceptions.ConnectionError:\n",
    "            # in case of max retry\n",
    "        #    tries += 1\n",
    "        #    time.sleep(0.1)\n",
    "        #except json.JSONDecodeError:\n",
    "        #    break\n",
    "    \n",
    "    num_acc = carac['Num_Acc']\n",
    "    \n",
    "    if resp_json is None or len(resp_json['features']) < 1: \n",
    "        return [num_acc] + list(np.array(get_columns())[:, 1])\n",
    "    feature = resp_json['features'][0]\n",
    "    \n",
    "    city = feature['properties']['city']\n",
    "    name = feature['properties']['name']\n",
    "    score = round(feature['properties']['score'], 3)\n",
    "    postcode = feature['properties']['postcode']\n",
    "    longitude = feature['geometry']['coordinates'][0]\n",
    "    latitude = feature['geometry']['coordinates'][1]\n",
    "    \n",
    "    return [num_acc, city, postcode, name, score, longitude, latitude]"
   ]
  },
  {
   "cell_type": "code",
   "execution_count": 20,
   "metadata": {},
   "outputs": [
    {
     "name": "stdout",
     "output_type": "stream",
     "text": [
      "step 0 / 10053 time 0.19317864974339802 min\n",
      "step 500 / 10053 time 0.3910294016202291 min\n",
      "step 1000 / 10053 time 0.5888507684071859 min\n",
      "step 1500 / 10053 time 0.7619440873463948 min\n",
      "step 2000 / 10053 time 2.2443670352300007 min\n",
      "step 2500 / 10053 time 2.4793166001637776 min\n",
      "step 3000 / 10053 time 2.654086005687714 min\n"
     ]
    },
    {
     "ename": "KeyboardInterrupt",
     "evalue": "",
     "output_type": "error",
     "traceback": [
      "\u001b[0;31m---------------------------------------------------------------------------\u001b[0m",
      "\u001b[0;31mKeyboardInterrupt\u001b[0m                         Traceback (most recent call last)",
      "\u001b[0;32m<ipython-input-20-bed6ee0ec5ed>\u001b[0m in \u001b[0;36m<module>\u001b[0;34m\u001b[0m\n\u001b[1;32m     13\u001b[0m         \u001b[0mchunk\u001b[0m \u001b[0;34m=\u001b[0m \u001b[0mchunker\u001b[0m\u001b[0;34m(\u001b[0m\u001b[0mvalide_adr_carac\u001b[0m\u001b[0;34m,\u001b[0m \u001b[0mi\u001b[0m\u001b[0;34m,\u001b[0m \u001b[0mchunk_size\u001b[0m\u001b[0;34m)\u001b[0m\u001b[0;34m\u001b[0m\u001b[0;34m\u001b[0m\u001b[0m\n\u001b[1;32m     14\u001b[0m         \u001b[0mresults\u001b[0m \u001b[0;34m=\u001b[0m \u001b[0;34m[\u001b[0m\u001b[0;34m]\u001b[0m\u001b[0;34m\u001b[0m\u001b[0;34m\u001b[0m\u001b[0m\n\u001b[0;32m---> 15\u001b[0;31m         \u001b[0;32mfor\u001b[0m \u001b[0mres\u001b[0m \u001b[0;32min\u001b[0m \u001b[0mexecutor\u001b[0m\u001b[0;34m.\u001b[0m\u001b[0mmap\u001b[0m\u001b[0;34m(\u001b[0m\u001b[0mget_lat_long_from_adr\u001b[0m\u001b[0;34m,\u001b[0m \u001b[0mchunk\u001b[0m\u001b[0;34m.\u001b[0m\u001b[0miterrows\u001b[0m\u001b[0;34m(\u001b[0m\u001b[0;34m)\u001b[0m\u001b[0;34m)\u001b[0m\u001b[0;34m:\u001b[0m\u001b[0;34m\u001b[0m\u001b[0;34m\u001b[0m\u001b[0m\n\u001b[0m\u001b[1;32m     16\u001b[0m             \u001b[0mresults\u001b[0m\u001b[0;34m.\u001b[0m\u001b[0mappend\u001b[0m\u001b[0;34m(\u001b[0m\u001b[0mres\u001b[0m\u001b[0;34m)\u001b[0m\u001b[0;34m\u001b[0m\u001b[0;34m\u001b[0m\u001b[0m\n\u001b[1;32m     17\u001b[0m \u001b[0;34m\u001b[0m\u001b[0m\n",
      "\u001b[0;32m/opt/miniconda3/envs/scapper/lib/python3.8/concurrent/futures/_base.py\u001b[0m in \u001b[0;36mresult_iterator\u001b[0;34m()\u001b[0m\n\u001b[1;32m    609\u001b[0m                     \u001b[0;31m# Careful not to keep a reference to the popped future\u001b[0m\u001b[0;34m\u001b[0m\u001b[0;34m\u001b[0m\u001b[0;34m\u001b[0m\u001b[0m\n\u001b[1;32m    610\u001b[0m                     \u001b[0;32mif\u001b[0m \u001b[0mtimeout\u001b[0m \u001b[0;32mis\u001b[0m \u001b[0;32mNone\u001b[0m\u001b[0;34m:\u001b[0m\u001b[0;34m\u001b[0m\u001b[0;34m\u001b[0m\u001b[0m\n\u001b[0;32m--> 611\u001b[0;31m                         \u001b[0;32myield\u001b[0m \u001b[0mfs\u001b[0m\u001b[0;34m.\u001b[0m\u001b[0mpop\u001b[0m\u001b[0;34m(\u001b[0m\u001b[0;34m)\u001b[0m\u001b[0;34m.\u001b[0m\u001b[0mresult\u001b[0m\u001b[0;34m(\u001b[0m\u001b[0;34m)\u001b[0m\u001b[0;34m\u001b[0m\u001b[0;34m\u001b[0m\u001b[0m\n\u001b[0m\u001b[1;32m    612\u001b[0m                     \u001b[0;32melse\u001b[0m\u001b[0;34m:\u001b[0m\u001b[0;34m\u001b[0m\u001b[0;34m\u001b[0m\u001b[0m\n\u001b[1;32m    613\u001b[0m                         \u001b[0;32myield\u001b[0m \u001b[0mfs\u001b[0m\u001b[0;34m.\u001b[0m\u001b[0mpop\u001b[0m\u001b[0;34m(\u001b[0m\u001b[0;34m)\u001b[0m\u001b[0;34m.\u001b[0m\u001b[0mresult\u001b[0m\u001b[0;34m(\u001b[0m\u001b[0mend_time\u001b[0m \u001b[0;34m-\u001b[0m \u001b[0mtime\u001b[0m\u001b[0;34m.\u001b[0m\u001b[0mmonotonic\u001b[0m\u001b[0;34m(\u001b[0m\u001b[0;34m)\u001b[0m\u001b[0;34m)\u001b[0m\u001b[0;34m\u001b[0m\u001b[0;34m\u001b[0m\u001b[0m\n",
      "\u001b[0;32m/opt/miniconda3/envs/scapper/lib/python3.8/concurrent/futures/_base.py\u001b[0m in \u001b[0;36mresult\u001b[0;34m(self, timeout)\u001b[0m\n\u001b[1;32m    432\u001b[0m                 \u001b[0;32mreturn\u001b[0m \u001b[0mself\u001b[0m\u001b[0;34m.\u001b[0m\u001b[0m__get_result\u001b[0m\u001b[0;34m(\u001b[0m\u001b[0;34m)\u001b[0m\u001b[0;34m\u001b[0m\u001b[0;34m\u001b[0m\u001b[0m\n\u001b[1;32m    433\u001b[0m \u001b[0;34m\u001b[0m\u001b[0m\n\u001b[0;32m--> 434\u001b[0;31m             \u001b[0mself\u001b[0m\u001b[0;34m.\u001b[0m\u001b[0m_condition\u001b[0m\u001b[0;34m.\u001b[0m\u001b[0mwait\u001b[0m\u001b[0;34m(\u001b[0m\u001b[0mtimeout\u001b[0m\u001b[0;34m)\u001b[0m\u001b[0;34m\u001b[0m\u001b[0;34m\u001b[0m\u001b[0m\n\u001b[0m\u001b[1;32m    435\u001b[0m \u001b[0;34m\u001b[0m\u001b[0m\n\u001b[1;32m    436\u001b[0m             \u001b[0;32mif\u001b[0m \u001b[0mself\u001b[0m\u001b[0;34m.\u001b[0m\u001b[0m_state\u001b[0m \u001b[0;32min\u001b[0m \u001b[0;34m[\u001b[0m\u001b[0mCANCELLED\u001b[0m\u001b[0;34m,\u001b[0m \u001b[0mCANCELLED_AND_NOTIFIED\u001b[0m\u001b[0;34m]\u001b[0m\u001b[0;34m:\u001b[0m\u001b[0;34m\u001b[0m\u001b[0;34m\u001b[0m\u001b[0m\n",
      "\u001b[0;32m/opt/miniconda3/envs/scapper/lib/python3.8/threading.py\u001b[0m in \u001b[0;36mwait\u001b[0;34m(self, timeout)\u001b[0m\n\u001b[1;32m    300\u001b[0m         \u001b[0;32mtry\u001b[0m\u001b[0;34m:\u001b[0m    \u001b[0;31m# restore state no matter what (e.g., KeyboardInterrupt)\u001b[0m\u001b[0;34m\u001b[0m\u001b[0;34m\u001b[0m\u001b[0m\n\u001b[1;32m    301\u001b[0m             \u001b[0;32mif\u001b[0m \u001b[0mtimeout\u001b[0m \u001b[0;32mis\u001b[0m \u001b[0;32mNone\u001b[0m\u001b[0;34m:\u001b[0m\u001b[0;34m\u001b[0m\u001b[0;34m\u001b[0m\u001b[0m\n\u001b[0;32m--> 302\u001b[0;31m                 \u001b[0mwaiter\u001b[0m\u001b[0;34m.\u001b[0m\u001b[0macquire\u001b[0m\u001b[0;34m(\u001b[0m\u001b[0;34m)\u001b[0m\u001b[0;34m\u001b[0m\u001b[0;34m\u001b[0m\u001b[0m\n\u001b[0m\u001b[1;32m    303\u001b[0m                 \u001b[0mgotit\u001b[0m \u001b[0;34m=\u001b[0m \u001b[0;32mTrue\u001b[0m\u001b[0;34m\u001b[0m\u001b[0;34m\u001b[0m\u001b[0m\n\u001b[1;32m    304\u001b[0m             \u001b[0;32melse\u001b[0m\u001b[0;34m:\u001b[0m\u001b[0;34m\u001b[0m\u001b[0;34m\u001b[0m\u001b[0m\n",
      "\u001b[0;31mKeyboardInterrupt\u001b[0m: "
     ]
    }
   ],
   "source": [
    "start_time = time.time()\n",
    "valide_adr_carac = valide_adr_caracteristics.iloc[:10053]\n",
    "cols_to_save = ['Num_Acc'] + list(np.array(get_columns())[:, 0])\n",
    "\n",
    "\n",
    "chunk_size = 500\n",
    "filename = 'adr_complet.csv'\n",
    "start = 0\n",
    "\n",
    "\n",
    "with concurrent.futures.ThreadPoolExecutor(max_workers=6) as executor:  \n",
    "    for i in range(start, valide_adr_carac.shape[0], chunk_size):\n",
    "        chunk = chunker(valide_adr_carac, i, chunk_size)\n",
    "        results = []\n",
    "        for res in executor.map(get_lat_long_from_adr, chunk.iterrows()):\n",
    "            results.append(res)\n",
    "               \n",
    "        with open(filename, 'a') as f:\n",
    "            df = pd.DataFrame(data=results, columns=cols_to_save)\n",
    "            df.to_csv(f, mode='a', header=f.tell()==0, index=False)\n",
    "\n",
    "        if i % chunk_size == 0: \n",
    "            print('step', i, '/', valide_adr_carac.shape[0], 'time', (time.time() - start_time) / 60, 'min')\n",
    "\n",
    "\n",
    "print('total time', (time.time() - start) / 60, 'min')"
   ]
  },
  {
   "cell_type": "code",
   "execution_count": null,
   "metadata": {},
   "outputs": [],
   "source": [
    "#unsent_requests = (grequests.get(u, session=requests.Session(), stream=False) for u in urls)\n",
    "#valide_adr_caracteristics = add_columns(valide_adr_caracteristics)\n",
    "#responses = grequests.map(unsent_requests, size=10)\n",
    "#for i, response in enumerate(responses):\n",
    "#    lat_long_from_adr(response, valide_adr_caracteristics, i)"
   ]
  },
  {
   "cell_type": "code",
   "execution_count": null,
   "metadata": {},
   "outputs": [],
   "source": [
    "    \n",
    "    # global valide_adr_carac\n",
    "    # with lock:\n",
    "    #    valide_adr_carac.loc[i, 'city'] = feature['properties']['city']\n",
    "    #    valide_adr_carac.loc[i, 'name'] = feature['properties']['name']\n",
    "    #    valide_adr_carac.loc[i, 'score'] = round(feature['properties']['score'], 3)\n",
    "    #    valide_adr_carac.loc[i, 'postcode'] = feature['properties']['postcode']\n",
    "    #    valide_adr_carac.loc[i, 'longitude'] = feature['geometry']['coordinates'][0]\n",
    "    #    valide_adr_carac.loc[i, 'latitude'] = feature['geometry']['coordinates'][1]\n",
    "    \n",
    "    #if i %1000 == 0:\n",
    "    #    print(\"step \" , i)"
   ]
  }
 ],
 "metadata": {
  "kernelspec": {
   "display_name": "Python 3",
   "language": "python",
   "name": "python3"
  },
  "language_info": {
   "codemirror_mode": {
    "name": "ipython",
    "version": 3
   },
   "file_extension": ".py",
   "mimetype": "text/x-python",
   "name": "python",
   "nbconvert_exporter": "python",
   "pygments_lexer": "ipython3",
   "version": "3.7.9"
  }
 },
 "nbformat": 4,
 "nbformat_minor": 4
}
